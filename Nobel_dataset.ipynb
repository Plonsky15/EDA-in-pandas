{
 "cells": [
  {
   "cell_type": "code",
   "execution_count": 1,
   "id": "517b7c46-c862-474d-9a99-0665d5b736ad",
   "metadata": {},
   "outputs": [],
   "source": [
    "import pandas as pd\n",
    "import matplotlib.pyplot as plt\n",
    "import seaborn as sns"
   ]
  },
  {
   "cell_type": "code",
   "execution_count": 2,
   "id": "8191eb9c-3c3d-4ba2-9e77-d140e9658de3",
   "metadata": {},
   "outputs": [
    {
     "data": {
      "text/html": [
       "<div>\n",
       "<style scoped>\n",
       "    .dataframe tbody tr th:only-of-type {\n",
       "        vertical-align: middle;\n",
       "    }\n",
       "\n",
       "    .dataframe tbody tr th {\n",
       "        vertical-align: top;\n",
       "    }\n",
       "\n",
       "    .dataframe thead th {\n",
       "        text-align: right;\n",
       "    }\n",
       "</style>\n",
       "<table border=\"1\" class=\"dataframe\">\n",
       "  <thead>\n",
       "    <tr style=\"text-align: right;\">\n",
       "      <th></th>\n",
       "      <th>year</th>\n",
       "      <th>category</th>\n",
       "      <th>prize</th>\n",
       "      <th>motivation</th>\n",
       "      <th>prize_share</th>\n",
       "      <th>laureate_id</th>\n",
       "      <th>laureate_type</th>\n",
       "      <th>full_name</th>\n",
       "      <th>birth_date</th>\n",
       "      <th>birth_city</th>\n",
       "      <th>birth_country</th>\n",
       "      <th>sex</th>\n",
       "      <th>organization_name</th>\n",
       "      <th>organization_city</th>\n",
       "      <th>organization_country</th>\n",
       "      <th>death_date</th>\n",
       "      <th>death_city</th>\n",
       "      <th>death_country</th>\n",
       "    </tr>\n",
       "  </thead>\n",
       "  <tbody>\n",
       "    <tr>\n",
       "      <th>0</th>\n",
       "      <td>1901</td>\n",
       "      <td>Chemistry</td>\n",
       "      <td>The Nobel Prize in Chemistry 1901</td>\n",
       "      <td>\"in recognition of the extraordinary services ...</td>\n",
       "      <td>1/1</td>\n",
       "      <td>160</td>\n",
       "      <td>Individual</td>\n",
       "      <td>Jacobus Henricus van 't Hoff</td>\n",
       "      <td>1852-08-30</td>\n",
       "      <td>Rotterdam</td>\n",
       "      <td>Netherlands</td>\n",
       "      <td>Male</td>\n",
       "      <td>Berlin University</td>\n",
       "      <td>Berlin</td>\n",
       "      <td>Germany</td>\n",
       "      <td>1911-03-01</td>\n",
       "      <td>Berlin</td>\n",
       "      <td>Germany</td>\n",
       "    </tr>\n",
       "    <tr>\n",
       "      <th>1</th>\n",
       "      <td>1901</td>\n",
       "      <td>Literature</td>\n",
       "      <td>The Nobel Prize in Literature 1901</td>\n",
       "      <td>\"in special recognition of his poetic composit...</td>\n",
       "      <td>1/1</td>\n",
       "      <td>569</td>\n",
       "      <td>Individual</td>\n",
       "      <td>Sully Prudhomme</td>\n",
       "      <td>1839-03-16</td>\n",
       "      <td>Paris</td>\n",
       "      <td>France</td>\n",
       "      <td>Male</td>\n",
       "      <td>NaN</td>\n",
       "      <td>NaN</td>\n",
       "      <td>NaN</td>\n",
       "      <td>1907-09-07</td>\n",
       "      <td>Châtenay</td>\n",
       "      <td>France</td>\n",
       "    </tr>\n",
       "    <tr>\n",
       "      <th>2</th>\n",
       "      <td>1901</td>\n",
       "      <td>Medicine</td>\n",
       "      <td>The Nobel Prize in Physiology or Medicine 1901</td>\n",
       "      <td>\"for his work on serum therapy, especially its...</td>\n",
       "      <td>1/1</td>\n",
       "      <td>293</td>\n",
       "      <td>Individual</td>\n",
       "      <td>Emil Adolf von Behring</td>\n",
       "      <td>1854-03-15</td>\n",
       "      <td>Hansdorf (Lawice)</td>\n",
       "      <td>Prussia (Poland)</td>\n",
       "      <td>Male</td>\n",
       "      <td>Marburg University</td>\n",
       "      <td>Marburg</td>\n",
       "      <td>Germany</td>\n",
       "      <td>1917-03-31</td>\n",
       "      <td>Marburg</td>\n",
       "      <td>Germany</td>\n",
       "    </tr>\n",
       "    <tr>\n",
       "      <th>3</th>\n",
       "      <td>1901</td>\n",
       "      <td>Peace</td>\n",
       "      <td>The Nobel Peace Prize 1901</td>\n",
       "      <td>NaN</td>\n",
       "      <td>1/2</td>\n",
       "      <td>462</td>\n",
       "      <td>Individual</td>\n",
       "      <td>Jean Henry Dunant</td>\n",
       "      <td>1828-05-08</td>\n",
       "      <td>Geneva</td>\n",
       "      <td>Switzerland</td>\n",
       "      <td>Male</td>\n",
       "      <td>NaN</td>\n",
       "      <td>NaN</td>\n",
       "      <td>NaN</td>\n",
       "      <td>1910-10-30</td>\n",
       "      <td>Heiden</td>\n",
       "      <td>Switzerland</td>\n",
       "    </tr>\n",
       "    <tr>\n",
       "      <th>4</th>\n",
       "      <td>1901</td>\n",
       "      <td>Peace</td>\n",
       "      <td>The Nobel Peace Prize 1901</td>\n",
       "      <td>NaN</td>\n",
       "      <td>1/2</td>\n",
       "      <td>463</td>\n",
       "      <td>Individual</td>\n",
       "      <td>Frédéric Passy</td>\n",
       "      <td>1822-05-20</td>\n",
       "      <td>Paris</td>\n",
       "      <td>France</td>\n",
       "      <td>Male</td>\n",
       "      <td>NaN</td>\n",
       "      <td>NaN</td>\n",
       "      <td>NaN</td>\n",
       "      <td>1912-06-12</td>\n",
       "      <td>Paris</td>\n",
       "      <td>France</td>\n",
       "    </tr>\n",
       "  </tbody>\n",
       "</table>\n",
       "</div>"
      ],
      "text/plain": [
       "   year    category                                           prize  \\\n",
       "0  1901   Chemistry               The Nobel Prize in Chemistry 1901   \n",
       "1  1901  Literature              The Nobel Prize in Literature 1901   \n",
       "2  1901    Medicine  The Nobel Prize in Physiology or Medicine 1901   \n",
       "3  1901       Peace                      The Nobel Peace Prize 1901   \n",
       "4  1901       Peace                      The Nobel Peace Prize 1901   \n",
       "\n",
       "                                          motivation prize_share  laureate_id  \\\n",
       "0  \"in recognition of the extraordinary services ...         1/1          160   \n",
       "1  \"in special recognition of his poetic composit...         1/1          569   \n",
       "2  \"for his work on serum therapy, especially its...         1/1          293   \n",
       "3                                                NaN         1/2          462   \n",
       "4                                                NaN         1/2          463   \n",
       "\n",
       "  laureate_type                     full_name  birth_date         birth_city  \\\n",
       "0    Individual  Jacobus Henricus van 't Hoff  1852-08-30          Rotterdam   \n",
       "1    Individual               Sully Prudhomme  1839-03-16              Paris   \n",
       "2    Individual        Emil Adolf von Behring  1854-03-15  Hansdorf (Lawice)   \n",
       "3    Individual             Jean Henry Dunant  1828-05-08             Geneva   \n",
       "4    Individual                Frédéric Passy  1822-05-20              Paris   \n",
       "\n",
       "      birth_country   sex   organization_name organization_city  \\\n",
       "0       Netherlands  Male   Berlin University            Berlin   \n",
       "1            France  Male                 NaN               NaN   \n",
       "2  Prussia (Poland)  Male  Marburg University           Marburg   \n",
       "3       Switzerland  Male                 NaN               NaN   \n",
       "4            France  Male                 NaN               NaN   \n",
       "\n",
       "  organization_country  death_date death_city death_country  \n",
       "0              Germany  1911-03-01     Berlin       Germany  \n",
       "1                  NaN  1907-09-07   Châtenay        France  \n",
       "2              Germany  1917-03-31    Marburg       Germany  \n",
       "3                  NaN  1910-10-30     Heiden   Switzerland  \n",
       "4                  NaN  1912-06-12      Paris        France  "
      ]
     },
     "execution_count": 2,
     "metadata": {},
     "output_type": "execute_result"
    }
   ],
   "source": [
    "data = pd.read_csv(r\"C:\\Users\\ZBOOK\\Downloads\\nobel.csv\")\n",
    "data.head(5)"
   ]
  },
  {
   "cell_type": "code",
   "execution_count": null,
   "id": "2204a3d2-1050-49c8-9273-3363e420dae3",
   "metadata": {},
   "outputs": [],
   "source": [
    "## QUESTION 1 : What is the most commonly awarded gender and birth country? Storing the string answers as top_gender and top_country"
   ]
  },
  {
   "cell_type": "code",
   "execution_count": 3,
   "id": "2aa74581-2b25-40d6-a0a3-0646083bea28",
   "metadata": {},
   "outputs": [
    {
     "data": {
      "text/plain": [
       "'Male'"
      ]
     },
     "execution_count": 3,
     "metadata": {},
     "output_type": "execute_result"
    }
   ],
   "source": [
    "top_gender = data.sex.value_counts().index[0]\n",
    "top_gender"
   ]
  },
  {
   "cell_type": "code",
   "execution_count": 4,
   "id": "0d566302-b5fc-434f-9d26-4968196aba95",
   "metadata": {},
   "outputs": [
    {
     "data": {
      "text/plain": [
       "'United States of America'"
      ]
     },
     "execution_count": 4,
     "metadata": {},
     "output_type": "execute_result"
    }
   ],
   "source": [
    "data.birth_country.value_counts().index[0]"
   ]
  },
  {
   "cell_type": "code",
   "execution_count": null,
   "id": "e9f92c34-d4bb-43b3-8754-08867a912d53",
   "metadata": {},
   "outputs": [],
   "source": [
    "## QUESTION 2 : What decade had the highest proportion of US-born winners? Store this as an integer called max_decade_usa."
   ]
  },
  {
   "cell_type": "code",
   "execution_count": 31,
   "id": "73056081-b73e-457d-a420-1b3f74e190d2",
   "metadata": {},
   "outputs": [],
   "source": [
    "data[\"us_born_winners\"] = data[\"birth_country\"] == \"United States of America\""
   ]
  },
  {
   "cell_type": "code",
   "execution_count": 27,
   "id": "b3537d37-f09b-471d-81ec-d221cb0b62c5",
   "metadata": {},
   "outputs": [],
   "source": [
    "data[\"decade\"] = (data[\"year\"] // 10) * 10"
   ]
  },
  {
   "cell_type": "code",
   "execution_count": 39,
   "id": "f608cfa5-8828-4de5-926f-b93876b72c4e",
   "metadata": {},
   "outputs": [
    {
     "data": {
      "text/plain": [
       "decade\n",
       "2000    0.422764\n",
       "Name: us_born_winners, dtype: float64"
      ]
     },
     "execution_count": 39,
     "metadata": {},
     "output_type": "execute_result"
    }
   ],
   "source": [
    "prop = data.groupby(\"decade\")[\"us_born_winners\"].mean()\n",
    "prop.sort_values(ascending = False).head(1)"
   ]
  },
  {
   "cell_type": "code",
   "execution_count": null,
   "id": "2d7ceae9-62d5-4065-80d3-6b911eeafc4f",
   "metadata": {},
   "outputs": [],
   "source": [
    "## question 2 : What decade and category pair had the highest proportion of female laureates? "
   ]
  },
  {
   "cell_type": "code",
   "execution_count": 42,
   "id": "c6515d14-a443-44d6-ac7b-ee5f6f5d0b1f",
   "metadata": {},
   "outputs": [],
   "source": [
    "data[\"female_winner\"] = data[\"sex\"] == \"Female\""
   ]
  },
  {
   "cell_type": "code",
   "execution_count": 46,
   "id": "382440af-87d6-49fa-9c98-fe8dc4e715ca",
   "metadata": {},
   "outputs": [],
   "source": [
    "prop2 = data.groupby([\"decade\",\"category\"])[\"female_winner\"].mean()"
   ]
  },
  {
   "cell_type": "code",
   "execution_count": 48,
   "id": "a9b53d18-1098-45ad-a8ba-06ae6bdab569",
   "metadata": {},
   "outputs": [
    {
     "data": {
      "text/plain": [
       "decade  category  \n",
       "2020    Literature    0.5\n",
       "Name: female_winner, dtype: float64"
      ]
     },
     "execution_count": 48,
     "metadata": {},
     "output_type": "execute_result"
    }
   ],
   "source": [
    "prop2.sort_values(ascending = False).head(1)"
   ]
  },
  {
   "cell_type": "code",
   "execution_count": 49,
   "id": "124b4ce5-2705-4407-b90d-bcf2020e49f9",
   "metadata": {},
   "outputs": [],
   "source": [
    "## QUESTION 3 : Who was the first woman to receive a Nobel Prize, and in what category? \n",
    "## Save your string answers as first_woman_name and first_woman_category"
   ]
  },
  {
   "cell_type": "code",
   "execution_count": 67,
   "id": "706643e6-13a6-4d47-a689-4534cd4609cc",
   "metadata": {},
   "outputs": [],
   "source": [
    "first_woman_name = data[data[\"sex\"] == \"Female\"].head(1)[\"full_name\"]\n",
    "first_woman_category = data[data[\"sex\"] == \"Female\"].head(1)[\"category\"]"
   ]
  },
  {
   "cell_type": "code",
   "execution_count": 68,
   "id": "d2c0a260-4fcb-492e-ba7b-bbdef68283ea",
   "metadata": {},
   "outputs": [
    {
     "data": {
      "text/plain": [
       "19    Marie Curie, née Sklodowska\n",
       "Name: full_name, dtype: object"
      ]
     },
     "execution_count": 68,
     "metadata": {},
     "output_type": "execute_result"
    }
   ],
   "source": [
    "first_woman_name"
   ]
  },
  {
   "cell_type": "code",
   "execution_count": 69,
   "id": "7bff7d10-afdb-4ea4-adff-b39892d95c0a",
   "metadata": {},
   "outputs": [
    {
     "data": {
      "text/plain": [
       "19    Physics\n",
       "Name: category, dtype: object"
      ]
     },
     "execution_count": 69,
     "metadata": {},
     "output_type": "execute_result"
    }
   ],
   "source": [
    "first_woman_category "
   ]
  },
  {
   "cell_type": "code",
   "execution_count": 70,
   "id": "c3ecdbaf-f1be-4838-a169-def2a4a61f45",
   "metadata": {},
   "outputs": [],
   "source": [
    "## QUESTION 4 = Which individuals or organizations have won multiple Nobel Prizes throughout the years? \n"
   ]
  },
  {
   "cell_type": "code",
   "execution_count": 72,
   "id": "6475b210-ccc9-4488-ac7b-2bf27a899dbb",
   "metadata": {},
   "outputs": [
    {
     "data": {
      "text/plain": [
       "992"
      ]
     },
     "execution_count": 72,
     "metadata": {},
     "output_type": "execute_result"
    }
   ],
   "source": [
    "data.laureate_id.nunique()"
   ]
  },
  {
   "cell_type": "code",
   "execution_count": 88,
   "id": "34a59ff7-0dd7-4a44-8de9-18850a46b1d1",
   "metadata": {},
   "outputs": [
    {
     "data": {
      "text/plain": [
       "Index([19, 62, 89, 215, 278, 283, 298, 306, 340, 348, 424, 505, 523, 721, 975], dtype='int64')"
      ]
     },
     "execution_count": 88,
     "metadata": {},
     "output_type": "execute_result"
    }
   ],
   "source": [
    "repeat_list = data[data.duplicated(\"laureate_id\", keep=False)]\n",
    "repeat_list.index"
   ]
  },
  {
   "cell_type": "code",
   "execution_count": null,
   "id": "2b550027-04fa-4f93-adb0-5f347013423b",
   "metadata": {},
   "outputs": [],
   "source": []
  }
 ],
 "metadata": {
  "kernelspec": {
   "display_name": "Python 3 (ipykernel)",
   "language": "python",
   "name": "python3"
  },
  "language_info": {
   "codemirror_mode": {
    "name": "ipython",
    "version": 3
   },
   "file_extension": ".py",
   "mimetype": "text/x-python",
   "name": "python",
   "nbconvert_exporter": "python",
   "pygments_lexer": "ipython3",
   "version": "3.11.4"
  }
 },
 "nbformat": 4,
 "nbformat_minor": 5
}
